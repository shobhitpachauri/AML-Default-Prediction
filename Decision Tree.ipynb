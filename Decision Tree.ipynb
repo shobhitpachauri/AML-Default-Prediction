{
 "cells": [
  {
   "cell_type": "code",
   "execution_count": 1,
   "metadata": {
    "executionInfo": {
     "elapsed": 823,
     "status": "ok",
     "timestamp": 1694359486896,
     "user": {
      "displayName": "Amir Zemoodeh",
      "userId": "16761213164468805584"
     },
     "user_tz": 300
    },
    "id": "IbNWqu3dpHch"
   },
   "outputs": [],
   "source": [
    "# import required libraries\n",
    "\n",
    "import pandas as pd\n",
    "import numpy as np"
   ]
  },
  {
   "cell_type": "code",
   "execution_count": 2,
   "metadata": {
    "colab": {
     "base_uri": "https://localhost:8080/"
    },
    "executionInfo": {
     "elapsed": 19999,
     "status": "ok",
     "timestamp": 1694359512496,
     "user": {
      "displayName": "Amir Zemoodeh",
      "userId": "16761213164468805584"
     },
     "user_tz": 300
    },
    "id": "Ct7Uqu-_nRdy",
    "outputId": "7b1e2d06-85c9-4a8c-f866-60ab0f4b884e"
   },
   "outputs": [
    {
     "name": "stdout",
     "output_type": "stream",
     "text": [
      "Mounted at /content/drive\n"
     ]
    }
   ],
   "source": [
    "# this step is to read data on Google Drive\n",
    "from google.colab import drive\n",
    "drive.mount(\"/content/drive\")"
   ]
  },
  {
   "cell_type": "code",
   "execution_count": 3,
   "metadata": {
    "executionInfo": {
     "elapsed": 749,
     "status": "ok",
     "timestamp": 1694359516183,
     "user": {
      "displayName": "Amir Zemoodeh",
      "userId": "16761213164468805584"
     },
     "user_tz": 300
    },
    "id": "oZKCIye6nhTF"
   },
   "outputs": [],
   "source": [
    "# Data shared on eLearning\n",
    "income_data=pd.read_csv(\"drive/My Drive/Income_Data.csv\")"
   ]
  },
  {
   "cell_type": "code",
   "execution_count": 5,
   "metadata": {
    "colab": {
     "base_uri": "https://localhost:8080/"
    },
    "executionInfo": {
     "elapsed": 130,
     "status": "ok",
     "timestamp": 1694359602929,
     "user": {
      "displayName": "Amir Zemoodeh",
      "userId": "16761213164468805584"
     },
     "user_tz": 300
    },
    "id": "qEs4WvA5s1--",
    "outputId": "d8209bed-7f9a-4f52-9c5f-931450914ae5"
   },
   "outputs": [
    {
     "data": {
      "text/plain": [
       "Index(['Age', 'Gender', 'Education Level', 'Job Title', 'Years of Experience',\n",
       "       'Salary'],\n",
       "      dtype='object')"
      ]
     },
     "execution_count": 5,
     "metadata": {},
     "output_type": "execute_result"
    }
   ],
   "source": [
    "income_data.columns"
   ]
  },
  {
   "cell_type": "code",
   "execution_count": 105,
   "metadata": {
    "executionInfo": {
     "elapsed": 139,
     "status": "ok",
     "timestamp": 1694366337702,
     "user": {
      "displayName": "Amir Zemoodeh",
      "userId": "16761213164468805584"
     },
     "user_tz": 300
    },
    "id": "X_qsRg-YuZt9"
   },
   "outputs": [],
   "source": [
    "def best_split(data, target, feature, Loss_Function):\n",
    "  unique_values = sorted(data[feature].unique())\n",
    "  lower = np.array(unique_values[:len(unique_values)-1])\n",
    "  upper = np.array(unique_values[1:])\n",
    "  thresholds = (lower + upper) / 2\n",
    "\n",
    "  Losses = pd.DataFrame(columns = [\"Threshold\", \"Loss\"])\n",
    "  row_number = 0\n",
    "  for threshold in thresholds:\n",
    "    temp_data = data[[target, feature]].copy()\n",
    "    temp_data[\"Y_Hat\"] = np.NAN\n",
    "    Y_Hat_1 = temp_data[temp_data[feature] <= threshold][target].mean()\n",
    "    Y_Hat_2 = temp_data[temp_data[feature] > threshold][target].mean()\n",
    "    temp_data[\"Y_Hat\"] = np.where(temp_data[feature] <= threshold, Y_Hat_1, Y_Hat_2)\n",
    "\n",
    "    Losses.loc[row_number, \"Threshold\"] = threshold\n",
    "\n",
    "    if Loss_Function == \"MSE\":\n",
    "      Losses.loc[row_number, \"Loss\"] = np.power(temp_data[target] - temp_data[\"Y_Hat\"], 2).mean()\n",
    "    else:\n",
    "      Losses.loc[row_number, \"Loss\"] = np.abs(temp_data[target] - temp_data[\"Y_Hat\"]).mean()\n",
    "\n",
    "    row_number = row_number + 1\n",
    "\n",
    "  return (Losses[Losses.Loss == min(Losses.Loss)])"
   ]
  },
  {
   "cell_type": "code",
   "execution_count": 106,
   "metadata": {
    "executionInfo": {
     "elapsed": 151,
     "status": "ok",
     "timestamp": 1694366351146,
     "user": {
      "displayName": "Amir Zemoodeh",
      "userId": "16761213164468805584"
     },
     "user_tz": 300
    },
    "id": "rROhoMhSFjA8"
   },
   "outputs": [],
   "source": [
    "# to estimate time it takes to run the model\n",
    "import time"
   ]
  },
  {
   "cell_type": "code",
   "execution_count": 103,
   "metadata": {
    "colab": {
     "base_uri": "https://localhost:8080/"
    },
    "executionInfo": {
     "elapsed": 332,
     "status": "ok",
     "timestamp": 1694366110164,
     "user": {
      "displayName": "Amir Zemoodeh",
      "userId": "16761213164468805584"
     },
     "user_tz": 300
    },
    "id": "q-I_3ygK15W9",
    "outputId": "a1ebffa8-1187-41d3-98f6-e95ac5e89f2e"
   },
   "outputs": [
    {
     "name": "stdout",
     "output_type": "stream",
     "text": [
      "--- 0.22896981239318848 seconds ---\n"
     ]
    }
   ],
   "source": [
    "start_time = time.time()\n",
    "best_split(income_data, \"Salary\", \"Years of Experience\", \"MAE\")\n",
    "print(\"--- %s seconds ---\" % (time.time() - start_time))"
   ]
  },
  {
   "cell_type": "code",
   "execution_count": 102,
   "metadata": {
    "colab": {
     "base_uri": "https://localhost:8080/"
    },
    "executionInfo": {
     "elapsed": 318,
     "status": "ok",
     "timestamp": 1694366107434,
     "user": {
      "displayName": "Amir Zemoodeh",
      "userId": "16761213164468805584"
     },
     "user_tz": 300
    },
    "id": "BQTyXIBU75Dp",
    "outputId": "221dffb9-1636-4454-bfda-06f5f261c8ea"
   },
   "outputs": [
    {
     "name": "stdout",
     "output_type": "stream",
     "text": [
      "--- 0.18227481842041016 seconds ---\n"
     ]
    }
   ],
   "source": [
    "start_time = time.time()\n",
    "best_split(income_data, \"Salary\", \"Age\", \"MSE\")\n",
    "print(\"--- %s seconds ---\" % (time.time() - start_time))"
   ]
  },
  {
   "cell_type": "markdown",
   "metadata": {
    "id": "qSs4K5pzA1-f"
   },
   "source": [
    "# Run a DT using skLearn"
   ]
  },
  {
   "cell_type": "code",
   "execution_count": 83,
   "metadata": {
    "executionInfo": {
     "elapsed": 1718,
     "status": "ok",
     "timestamp": 1694364930349,
     "user": {
      "displayName": "Amir Zemoodeh",
      "userId": "16761213164468805584"
     },
     "user_tz": 300
    },
    "id": "RXK1H_IsBBea"
   },
   "outputs": [],
   "source": [
    "from sklearn.tree import DecisionTreeRegressor"
   ]
  },
  {
   "cell_type": "code",
   "execution_count": 91,
   "metadata": {
    "colab": {
     "base_uri": "https://localhost:8080/"
    },
    "executionInfo": {
     "elapsed": 154,
     "status": "ok",
     "timestamp": 1694365500590,
     "user": {
      "displayName": "Amir Zemoodeh",
      "userId": "16761213164468805584"
     },
     "user_tz": 300
    },
    "id": "NvXIfbThB5Sk",
    "outputId": "6583666c-f596-4351-ad7a-d9774de7bf7b"
   },
   "outputs": [
    {
     "data": {
      "text/plain": [
       "(6702, 6)"
      ]
     },
     "execution_count": 91,
     "metadata": {},
     "output_type": "execute_result"
    }
   ],
   "source": [
    "# to use this package, we need to impute or remove missing values\n",
    "modeling_data = income_data[(income_data.Salary.notnull()) & (income_data.Age.notnull()) & (income_data[\"Years of Experience\"].notnull())]"
   ]
  },
  {
   "cell_type": "code",
   "execution_count": 104,
   "metadata": {
    "executionInfo": {
     "elapsed": 154,
     "status": "ok",
     "timestamp": 1694366281435,
     "user": {
      "displayName": "Amir Zemoodeh",
      "userId": "16761213164468805584"
     },
     "user_tz": 300
    },
    "id": "IqREVywIBSB8"
   },
   "outputs": [],
   "source": [
    "# build a DT with only one layer\n",
    "regressor = DecisionTreeRegressor(random_state=0, max_depth=1)\n",
    "DT_model = regressor.fit(modeling_data[[\"Age\", \"Years of Experience\"]], modeling_data[\"Salary\"])"
   ]
  },
  {
   "cell_type": "code",
   "execution_count": 96,
   "metadata": {
    "colab": {
     "base_uri": "https://localhost:8080/"
    },
    "executionInfo": {
     "elapsed": 187,
     "status": "ok",
     "timestamp": 1694365782873,
     "user": {
      "displayName": "Amir Zemoodeh",
      "userId": "16761213164468805584"
     },
     "user_tz": 300
    },
    "id": "a8XkV52UD7Ux",
    "outputId": "c8230806-ebf1-4677-84bf-087583754c77"
   },
   "outputs": [
    {
     "name": "stdout",
     "output_type": "stream",
     "text": [
      "|--- feature_1 <= 5.50\n",
      "|   |--- value: [69054.88]\n",
      "|--- feature_1 >  5.50\n",
      "|   |--- value: [148679.00]\n",
      "\n"
     ]
    }
   ],
   "source": [
    "from sklearn import tree\n",
    "text_representation = tree.export_text(regressor)\n",
    "print(text_representation)"
   ]
  }
 ],
 "metadata": {
  "colab": {
   "authorship_tag": "ABX9TyPSFu1Xpz+TUWrcElt6Okmr",
   "provenance": [
    {
     "file_id": "15fE19trpuic_4ldoZjZuiPwD1cuPb8Cb",
     "timestamp": 1694359452093
    },
    {
     "file_id": "1-sOdeXgmiPT791q-LU_vwtZugiqj9jhL",
     "timestamp": 1693177239732
    },
    {
     "file_id": "1YnyDduYsIufQYRKYoSpPH5-L8jbNDrXS",
     "timestamp": 1686237676081
    }
   ]
  },
  "kernelspec": {
   "display_name": "Python 3 (ipykernel)",
   "language": "python",
   "name": "python3"
  },
  "language_info": {
   "codemirror_mode": {
    "name": "ipython",
    "version": 3
   },
   "file_extension": ".py",
   "mimetype": "text/x-python",
   "name": "python",
   "nbconvert_exporter": "python",
   "pygments_lexer": "ipython3",
   "version": "3.11.5"
  }
 },
 "nbformat": 4,
 "nbformat_minor": 1
}
