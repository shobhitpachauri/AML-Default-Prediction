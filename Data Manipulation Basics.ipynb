{
 "cells": [
  {
   "cell_type": "markdown",
   "metadata": {
    "id": "qiDHLuVSwcuf"
   },
   "source": [
    "I this course we will discuss Lists, Numpy Arrays (Numpy Dataframes), and Pandas Arrays (Pandas Dataframes. These are the main Data Storage and Manipulation tools in Python. Let's start with the simplest of three, Lists.\n",
    "\n",
    "\n",
    "\n"
   ]
  },
  {
   "cell_type": "code",
   "execution_count": 4,
   "metadata": {
    "colab": {
     "base_uri": "https://localhost:8080/"
    },
    "executionInfo": {
     "elapsed": 96,
     "status": "ok",
     "timestamp": 1693186925028,
     "user": {
      "displayName": "Amir Zemoodeh",
      "userId": "16761213164468805584"
     },
     "user_tz": 300
    },
    "id": "e6Lz7pW-HV37",
    "outputId": "40343b55-ce19-4d25-a599-dd54292b5b88"
   },
   "outputs": [
    {
     "name": "stdout",
     "output_type": "stream",
     "text": [
      "4\n",
      "[2, 3, 4]\n",
      "[[1, 2], [-9, 5], [3, 3]]\n"
     ]
    }
   ],
   "source": [
    "# Define a Scalar Variable\n",
    "a = 4\n",
    "print (a)\n",
    "\n",
    "# Define a one-dimensional list; i.e. a vector\n",
    "a = [2,3,4]\n",
    "print (a)\n",
    "\n",
    "# Define a two-dimensional list; i.e. a matrix\n",
    "# following is a 3 by 2 matrix; i.e. 3 rows and 2 columns\n",
    "a = [[1,2], [-9, 5], [3,3]]\n",
    "print (a)"
   ]
  },
  {
   "cell_type": "markdown",
   "metadata": {
    "id": "jfunrArxzosu"
   },
   "source": [
    "Lists have limited functionality. Numpy Array is like a more advanced List."
   ]
  },
  {
   "cell_type": "code",
   "execution_count": 5,
   "metadata": {
    "executionInfo": {
     "elapsed": 6,
     "status": "ok",
     "timestamp": 1693187061650,
     "user": {
      "displayName": "Amir Zemoodeh",
      "userId": "16761213164468805584"
     },
     "user_tz": 300
    },
    "id": "48HbOzTrz-cR"
   },
   "outputs": [],
   "source": [
    "# import numpy library\n",
    "import numpy as np"
   ]
  },
  {
   "cell_type": "code",
   "execution_count": 7,
   "metadata": {
    "colab": {
     "base_uri": "https://localhost:8080/"
    },
    "executionInfo": {
     "elapsed": 107,
     "status": "ok",
     "timestamp": 1693187144317,
     "user": {
      "displayName": "Amir Zemoodeh",
      "userId": "16761213164468805584"
     },
     "user_tz": 300
    },
    "id": "hPyyolUZzx3l",
    "outputId": "ff31e51d-e8e5-4466-fa21-7070138d80d1"
   },
   "outputs": [
    {
     "name": "stdout",
     "output_type": "stream",
     "text": [
      "[2 3 4]\n",
      "[[ 1  2]\n",
      " [-9  5]\n",
      " [ 3  3]]\n"
     ]
    }
   ],
   "source": [
    "# Define a 1-dimensional Numpy array\n",
    "a = np.array([2,3,4])\n",
    "print (a)\n",
    "\n",
    "# Define a 2-dimensional Numpy array\n",
    "a = np.array([[1,2], [-9, 5], [3,3]])\n",
    "print (a)\n",
    "\n",
    "# notice how numpy, prints a matrix in a better way"
   ]
  },
  {
   "cell_type": "markdown",
   "metadata": {
    "id": "0ShACY1X0po9"
   },
   "source": [
    "**To work with data, you should be able to quickly choose any element of a vector or matrix**"
   ]
  },
  {
   "cell_type": "code",
   "execution_count": 13,
   "metadata": {
    "colab": {
     "base_uri": "https://localhost:8080/"
    },
    "executionInfo": {
     "elapsed": 77,
     "status": "ok",
     "timestamp": 1693187636267,
     "user": {
      "displayName": "Amir Zemoodeh",
      "userId": "16761213164468805584"
     },
     "user_tz": 300
    },
    "id": "WX7GFI7B0iPU",
    "outputId": "c852204d-3c37-4e0e-ac1f-0d568f9020f8"
   },
   "outputs": [
    {
     "name": "stdout",
     "output_type": "stream",
     "text": [
      "1\n",
      "3\n",
      "[-9  5]\n",
      "[ 1 -9  3]\n",
      "[5 3]\n"
     ]
    }
   ],
   "source": [
    "# choosing different elements of a Numpy array (dataframe)\n",
    "\n",
    "# a is a 3 by 2 matrix\n",
    "a = np.array([[1,2], [-9, 5], [3,3]])\n",
    "\n",
    "# Choose first observation, first column\n",
    "print (a[0, 0])\n",
    "# Note: indices in Python start from 0; i.e. index of the first element is 0\n",
    "\n",
    "# Choose third observation, second column\n",
    "print (a[2, 1])\n",
    "\n",
    "# Choose the second row. : means all columns\n",
    "print (a[1, :])\n",
    "\n",
    "# Choose the first column\n",
    "print (a[:, 0])\n",
    "\n",
    "# Choose the second and the third row, second colum\n",
    "print (a[1:, 1])"
   ]
  },
  {
   "cell_type": "markdown",
   "metadata": {
    "id": "Z3B2hnD82TBH"
   },
   "source": [
    "*Assignment 1: Define a 4 by 4 numpy array, and select second and thrird row, first three columns*"
   ]
  },
  {
   "cell_type": "markdown",
   "metadata": {
    "id": "TY_SLSN52uOh"
   },
   "source": [
    "There are several useful built-in functions in Numpy librarys. We will use several of them throughout the course."
   ]
  },
  {
   "cell_type": "markdown",
   "metadata": {
    "id": "Ysxt046V3PBl"
   },
   "source": [
    "# Pandas Arrays (Dataframes) are more advanced version of Numpy Arrays. Pandas DF is our main tool to work with data. One advantage of Pandas DFs compared with Numpy DFs is that columns in Pandas DFs can have names, like feature names in a dataset."
   ]
  },
  {
   "cell_type": "code",
   "execution_count": 14,
   "metadata": {
    "executionInfo": {
     "elapsed": 1264,
     "status": "ok",
     "timestamp": 1693188095739,
     "user": {
      "displayName": "Amir Zemoodeh",
      "userId": "16761213164468805584"
     },
     "user_tz": 300
    },
    "id": "ETKbmbBp38Rr"
   },
   "outputs": [],
   "source": [
    "# import pandas library\n",
    "import pandas as pd"
   ]
  },
  {
   "cell_type": "code",
   "execution_count": 15,
   "metadata": {
    "colab": {
     "base_uri": "https://localhost:8080/",
     "height": 53
    },
    "executionInfo": {
     "elapsed": 79,
     "status": "ok",
     "timestamp": 1693188126015,
     "user": {
      "displayName": "Amir Zemoodeh",
      "userId": "16761213164468805584"
     },
     "user_tz": 300
    },
    "id": "JdSVQn06Afux",
    "outputId": "683b7be8-2491-4c30-d0eb-043b86b55330"
   },
   "outputs": [
    {
     "data": {
      "text/html": [
       "\n",
       "  <div id=\"df-c8688450-04f6-492c-ad3a-c0234cd3d59d\" class=\"colab-df-container\">\n",
       "    <div>\n",
       "<style scoped>\n",
       "    .dataframe tbody tr th:only-of-type {\n",
       "        vertical-align: middle;\n",
       "    }\n",
       "\n",
       "    .dataframe tbody tr th {\n",
       "        vertical-align: top;\n",
       "    }\n",
       "\n",
       "    .dataframe thead th {\n",
       "        text-align: right;\n",
       "    }\n",
       "</style>\n",
       "<table border=\"1\" class=\"dataframe\">\n",
       "  <thead>\n",
       "    <tr style=\"text-align: right;\">\n",
       "      <th></th>\n",
       "      <th>first</th>\n",
       "      <th>second</th>\n",
       "      <th>thrid</th>\n",
       "    </tr>\n",
       "  </thead>\n",
       "  <tbody>\n",
       "  </tbody>\n",
       "</table>\n",
       "</div>\n",
       "    <div class=\"colab-df-buttons\">\n",
       "\n",
       "  <div class=\"colab-df-container\">\n",
       "    <button class=\"colab-df-convert\" onclick=\"convertToInteractive('df-c8688450-04f6-492c-ad3a-c0234cd3d59d')\"\n",
       "            title=\"Convert this dataframe to an interactive table.\"\n",
       "            style=\"display:none;\">\n",
       "\n",
       "  <svg xmlns=\"http://www.w3.org/2000/svg\" height=\"24px\" viewBox=\"0 -960 960 960\">\n",
       "    <path d=\"M120-120v-720h720v720H120Zm60-500h600v-160H180v160Zm220 220h160v-160H400v160Zm0 220h160v-160H400v160ZM180-400h160v-160H180v160Zm440 0h160v-160H620v160ZM180-180h160v-160H180v160Zm440 0h160v-160H620v160Z\"/>\n",
       "  </svg>\n",
       "    </button>\n",
       "\n",
       "  <style>\n",
       "    .colab-df-container {\n",
       "      display:flex;\n",
       "      gap: 12px;\n",
       "    }\n",
       "\n",
       "    .colab-df-convert {\n",
       "      background-color: #E8F0FE;\n",
       "      border: none;\n",
       "      border-radius: 50%;\n",
       "      cursor: pointer;\n",
       "      display: none;\n",
       "      fill: #1967D2;\n",
       "      height: 32px;\n",
       "      padding: 0 0 0 0;\n",
       "      width: 32px;\n",
       "    }\n",
       "\n",
       "    .colab-df-convert:hover {\n",
       "      background-color: #E2EBFA;\n",
       "      box-shadow: 0px 1px 2px rgba(60, 64, 67, 0.3), 0px 1px 3px 1px rgba(60, 64, 67, 0.15);\n",
       "      fill: #174EA6;\n",
       "    }\n",
       "\n",
       "    .colab-df-buttons div {\n",
       "      margin-bottom: 4px;\n",
       "    }\n",
       "\n",
       "    [theme=dark] .colab-df-convert {\n",
       "      background-color: #3B4455;\n",
       "      fill: #D2E3FC;\n",
       "    }\n",
       "\n",
       "    [theme=dark] .colab-df-convert:hover {\n",
       "      background-color: #434B5C;\n",
       "      box-shadow: 0px 1px 3px 1px rgba(0, 0, 0, 0.15);\n",
       "      filter: drop-shadow(0px 1px 2px rgba(0, 0, 0, 0.3));\n",
       "      fill: #FFFFFF;\n",
       "    }\n",
       "  </style>\n",
       "\n",
       "    <script>\n",
       "      const buttonEl =\n",
       "        document.querySelector('#df-c8688450-04f6-492c-ad3a-c0234cd3d59d button.colab-df-convert');\n",
       "      buttonEl.style.display =\n",
       "        google.colab.kernel.accessAllowed ? 'block' : 'none';\n",
       "\n",
       "      async function convertToInteractive(key) {\n",
       "        const element = document.querySelector('#df-c8688450-04f6-492c-ad3a-c0234cd3d59d');\n",
       "        const dataTable =\n",
       "          await google.colab.kernel.invokeFunction('convertToInteractive',\n",
       "                                                    [key], {});\n",
       "        if (!dataTable) return;\n",
       "\n",
       "        const docLinkHtml = 'Like what you see? Visit the ' +\n",
       "          '<a target=\"_blank\" href=https://colab.research.google.com/notebooks/data_table.ipynb>data table notebook</a>'\n",
       "          + ' to learn more about interactive tables.';\n",
       "        element.innerHTML = '';\n",
       "        dataTable['output_type'] = 'display_data';\n",
       "        await google.colab.output.renderOutput(dataTable, element);\n",
       "        const docLink = document.createElement('div');\n",
       "        docLink.innerHTML = docLinkHtml;\n",
       "        element.appendChild(docLink);\n",
       "      }\n",
       "    </script>\n",
       "  </div>\n",
       "\n",
       "    </div>\n",
       "  </div>\n"
      ],
      "text/plain": [
       "Empty DataFrame\n",
       "Columns: [first, second, thrid]\n",
       "Index: []"
      ]
     },
     "execution_count": 15,
     "metadata": {},
     "output_type": "execute_result"
    }
   ],
   "source": [
    "# Define a Empty Pandas DF\n",
    "df = pd.DataFrame(columns = [\"first\", \"second\", \"thrid\"])\n",
    "df"
   ]
  },
  {
   "cell_type": "code",
   "execution_count": 17,
   "metadata": {
    "colab": {
     "base_uri": "https://localhost:8080/",
     "height": 143
    },
    "executionInfo": {
     "elapsed": 107,
     "status": "ok",
     "timestamp": 1693188261773,
     "user": {
      "displayName": "Amir Zemoodeh",
      "userId": "16761213164468805584"
     },
     "user_tz": 300
    },
    "id": "Jc79KLG34Kk-",
    "outputId": "5b64b0b1-0153-4989-aa1c-bfabc3f94a51"
   },
   "outputs": [
    {
     "data": {
      "text/html": [
       "\n",
       "  <div id=\"df-8105be69-833d-4c62-be6f-ca6a0a8b8799\" class=\"colab-df-container\">\n",
       "    <div>\n",
       "<style scoped>\n",
       "    .dataframe tbody tr th:only-of-type {\n",
       "        vertical-align: middle;\n",
       "    }\n",
       "\n",
       "    .dataframe tbody tr th {\n",
       "        vertical-align: top;\n",
       "    }\n",
       "\n",
       "    .dataframe thead th {\n",
       "        text-align: right;\n",
       "    }\n",
       "</style>\n",
       "<table border=\"1\" class=\"dataframe\">\n",
       "  <thead>\n",
       "    <tr style=\"text-align: right;\">\n",
       "      <th></th>\n",
       "      <th>first</th>\n",
       "      <th>second</th>\n",
       "      <th>third</th>\n",
       "    </tr>\n",
       "  </thead>\n",
       "  <tbody>\n",
       "    <tr>\n",
       "      <th>0</th>\n",
       "      <td>1</td>\n",
       "      <td>2</td>\n",
       "      <td>3.0</td>\n",
       "    </tr>\n",
       "    <tr>\n",
       "      <th>1</th>\n",
       "      <td>-8</td>\n",
       "      <td>6</td>\n",
       "      <td>2.3</td>\n",
       "    </tr>\n",
       "    <tr>\n",
       "      <th>2</th>\n",
       "      <td>6</td>\n",
       "      <td>2</td>\n",
       "      <td>1.0</td>\n",
       "    </tr>\n",
       "  </tbody>\n",
       "</table>\n",
       "</div>\n",
       "    <div class=\"colab-df-buttons\">\n",
       "\n",
       "  <div class=\"colab-df-container\">\n",
       "    <button class=\"colab-df-convert\" onclick=\"convertToInteractive('df-8105be69-833d-4c62-be6f-ca6a0a8b8799')\"\n",
       "            title=\"Convert this dataframe to an interactive table.\"\n",
       "            style=\"display:none;\">\n",
       "\n",
       "  <svg xmlns=\"http://www.w3.org/2000/svg\" height=\"24px\" viewBox=\"0 -960 960 960\">\n",
       "    <path d=\"M120-120v-720h720v720H120Zm60-500h600v-160H180v160Zm220 220h160v-160H400v160Zm0 220h160v-160H400v160ZM180-400h160v-160H180v160Zm440 0h160v-160H620v160ZM180-180h160v-160H180v160Zm440 0h160v-160H620v160Z\"/>\n",
       "  </svg>\n",
       "    </button>\n",
       "\n",
       "  <style>\n",
       "    .colab-df-container {\n",
       "      display:flex;\n",
       "      gap: 12px;\n",
       "    }\n",
       "\n",
       "    .colab-df-convert {\n",
       "      background-color: #E8F0FE;\n",
       "      border: none;\n",
       "      border-radius: 50%;\n",
       "      cursor: pointer;\n",
       "      display: none;\n",
       "      fill: #1967D2;\n",
       "      height: 32px;\n",
       "      padding: 0 0 0 0;\n",
       "      width: 32px;\n",
       "    }\n",
       "\n",
       "    .colab-df-convert:hover {\n",
       "      background-color: #E2EBFA;\n",
       "      box-shadow: 0px 1px 2px rgba(60, 64, 67, 0.3), 0px 1px 3px 1px rgba(60, 64, 67, 0.15);\n",
       "      fill: #174EA6;\n",
       "    }\n",
       "\n",
       "    .colab-df-buttons div {\n",
       "      margin-bottom: 4px;\n",
       "    }\n",
       "\n",
       "    [theme=dark] .colab-df-convert {\n",
       "      background-color: #3B4455;\n",
       "      fill: #D2E3FC;\n",
       "    }\n",
       "\n",
       "    [theme=dark] .colab-df-convert:hover {\n",
       "      background-color: #434B5C;\n",
       "      box-shadow: 0px 1px 3px 1px rgba(0, 0, 0, 0.15);\n",
       "      filter: drop-shadow(0px 1px 2px rgba(0, 0, 0, 0.3));\n",
       "      fill: #FFFFFF;\n",
       "    }\n",
       "  </style>\n",
       "\n",
       "    <script>\n",
       "      const buttonEl =\n",
       "        document.querySelector('#df-8105be69-833d-4c62-be6f-ca6a0a8b8799 button.colab-df-convert');\n",
       "      buttonEl.style.display =\n",
       "        google.colab.kernel.accessAllowed ? 'block' : 'none';\n",
       "\n",
       "      async function convertToInteractive(key) {\n",
       "        const element = document.querySelector('#df-8105be69-833d-4c62-be6f-ca6a0a8b8799');\n",
       "        const dataTable =\n",
       "          await google.colab.kernel.invokeFunction('convertToInteractive',\n",
       "                                                    [key], {});\n",
       "        if (!dataTable) return;\n",
       "\n",
       "        const docLinkHtml = 'Like what you see? Visit the ' +\n",
       "          '<a target=\"_blank\" href=https://colab.research.google.com/notebooks/data_table.ipynb>data table notebook</a>'\n",
       "          + ' to learn more about interactive tables.';\n",
       "        element.innerHTML = '';\n",
       "        dataTable['output_type'] = 'display_data';\n",
       "        await google.colab.output.renderOutput(dataTable, element);\n",
       "        const docLink = document.createElement('div');\n",
       "        docLink.innerHTML = docLinkHtml;\n",
       "        element.appendChild(docLink);\n",
       "      }\n",
       "    </script>\n",
       "  </div>\n",
       "\n",
       "    </div>\n",
       "  </div>\n"
      ],
      "text/plain": [
       "   first  second  third\n",
       "0      1       2    3.0\n",
       "1     -8       6    2.3\n",
       "2      6       2    1.0"
      ]
     },
     "execution_count": 17,
     "metadata": {},
     "output_type": "execute_result"
    }
   ],
   "source": [
    "# define a 3 by 3 Pandas DF\n",
    "df = pd.DataFrame(columns = [\"first\", \"second\", \"third\"], data = [[1,2,3], [-8, 6, 2.3], [6,2,1]],)\n",
    "df"
   ]
  },
  {
   "cell_type": "code",
   "execution_count": 28,
   "metadata": {
    "colab": {
     "base_uri": "https://localhost:8080/"
    },
    "executionInfo": {
     "elapsed": 80,
     "status": "ok",
     "timestamp": 1693188826963,
     "user": {
      "displayName": "Amir Zemoodeh",
      "userId": "16761213164468805584"
     },
     "user_tz": 300
    },
    "id": "tENH8AQY5BfP",
    "outputId": "32c2ec87-a758-467a-8ec6-f725bed58416"
   },
   "outputs": [
    {
     "name": "stdout",
     "output_type": "stream",
     "text": [
      "0    2\n",
      "1    6\n",
      "2    2\n",
      "Name: second, dtype: int64\n",
      "   first  second\n",
      "0      1       2\n",
      "1     -8       6\n",
      "2      6       2\n",
      "1    2.3\n",
      "2    1.0\n",
      "Name: third, dtype: float64\n",
      "0    2\n",
      "2    2\n",
      "Name: second, dtype: int64\n"
     ]
    }
   ],
   "source": [
    "# choose the secons column\n",
    "print (df.second)\n",
    "\n",
    "# choose first and second column\n",
    "print (df[[\"first\", \"second\"]])\n",
    "\n",
    "# choose thrid column, last two observations - we will use loc a lot\n",
    "print (df.loc[1:, \"third\"])\n",
    "\n",
    "# choose first and third row, second column\n",
    "print (df.loc[[0, 2], \"second\"])"
   ]
  },
  {
   "cell_type": "markdown",
   "metadata": {
    "id": "VUlRc9jn7DMr"
   },
   "source": [
    "# Conditional selection of Pandas DF elements"
   ]
  },
  {
   "cell_type": "code",
   "execution_count": 31,
   "metadata": {
    "colab": {
     "base_uri": "https://localhost:8080/"
    },
    "executionInfo": {
     "elapsed": 79,
     "status": "ok",
     "timestamp": 1693189128477,
     "user": {
      "displayName": "Amir Zemoodeh",
      "userId": "16761213164468805584"
     },
     "user_tz": 300
    },
    "id": "p5lFkDIy7J8p",
    "outputId": "47a5acdd-b886-4347-94ea-a3ce983a902d"
   },
   "outputs": [
    {
     "name": "stdout",
     "output_type": "stream",
     "text": [
      "   first  second  third\n",
      "0      1       2    3.0\n",
      "1     -8       6    2.3\n",
      "   first  third\n",
      "0      1    3.0\n",
      "1     -8    2.3\n",
      "   first  second  third\n",
      "1     -8       6    2.3\n"
     ]
    }
   ],
   "source": [
    "# choose observations where third column higher than 2\n",
    "print (df[df.third > 2])\n",
    "\n",
    "# choose the first and third column of observations where third column higher than 2\n",
    "print (df[df.third > 2][[\"first\", \"third\"]])\n",
    "\n",
    "# choose observations where thrid column is higher than 2 and second column higher than 5\n",
    "print (df[(df.third > 2) & (df.second > 5)])"
   ]
  },
  {
   "cell_type": "markdown",
   "metadata": {
    "id": "KPMmaF9q63RB"
   },
   "source": [
    "# Pandas are used to read data, like a data saved as .csv"
   ]
  },
  {
   "cell_type": "code",
   "execution_count": 35,
   "metadata": {
    "colab": {
     "base_uri": "https://localhost:8080/"
    },
    "executionInfo": {
     "elapsed": 555,
     "status": "ok",
     "timestamp": 1693189620212,
     "user": {
      "displayName": "Amir Zemoodeh",
      "userId": "16761213164468805584"
     },
     "user_tz": 300
    },
    "id": "FoDw3sZj6-je",
    "outputId": "5dbb6cbb-13c0-44a8-967b-ec501cad4b99"
   },
   "outputs": [
    {
     "name": "stdout",
     "output_type": "stream",
     "text": [
      "Drive already mounted at /content/drive; to attempt to forcibly remount, call drive.mount(\"/content/drive\", force_remount=True).\n"
     ]
    }
   ],
   "source": [
    "# read data on Microsoft daily stock price, shared on eLearning\n",
    "\n",
    "# this step is to read data on Google Drive\n",
    "from google.colab import drive\n",
    "drive.mount(\"/content/drive\")\n",
    "\n",
    "# read the data\n",
    "microsoft_data=pd.read_csv(\"drive/My Drive/MSFT.csv\")"
   ]
  },
  {
   "cell_type": "markdown",
   "metadata": {
    "id": "MHPz1lcH91Id"
   },
   "source": [
    "Pandas offer many features/functions to explore data"
   ]
  },
  {
   "cell_type": "code",
   "execution_count": 36,
   "metadata": {
    "colab": {
     "base_uri": "https://localhost:8080/",
     "height": 112
    },
    "executionInfo": {
     "elapsed": 101,
     "status": "ok",
     "timestamp": 1693189685533,
     "user": {
      "displayName": "Amir Zemoodeh",
      "userId": "16761213164468805584"
     },
     "user_tz": 300
    },
    "id": "4x0d7RZr984u",
    "outputId": "1d0b0549-4eae-4e4e-9c57-4c6c22d8aa5a"
   },
   "outputs": [
    {
     "data": {
      "text/html": [
       "\n",
       "  <div id=\"df-589b4c1d-1281-41c4-bc36-b32b48284258\" class=\"colab-df-container\">\n",
       "    <div>\n",
       "<style scoped>\n",
       "    .dataframe tbody tr th:only-of-type {\n",
       "        vertical-align: middle;\n",
       "    }\n",
       "\n",
       "    .dataframe tbody tr th {\n",
       "        vertical-align: top;\n",
       "    }\n",
       "\n",
       "    .dataframe thead th {\n",
       "        text-align: right;\n",
       "    }\n",
       "</style>\n",
       "<table border=\"1\" class=\"dataframe\">\n",
       "  <thead>\n",
       "    <tr style=\"text-align: right;\">\n",
       "      <th></th>\n",
       "      <th>Date</th>\n",
       "      <th>Open</th>\n",
       "      <th>High</th>\n",
       "      <th>Low</th>\n",
       "      <th>Close</th>\n",
       "      <th>Adj Close</th>\n",
       "      <th>Volume</th>\n",
       "    </tr>\n",
       "  </thead>\n",
       "  <tbody>\n",
       "    <tr>\n",
       "      <th>0</th>\n",
       "      <td>2018-08-27</td>\n",
       "      <td>109.269997</td>\n",
       "      <td>109.639999</td>\n",
       "      <td>108.510002</td>\n",
       "      <td>109.599998</td>\n",
       "      <td>103.838486</td>\n",
       "      <td>19662300</td>\n",
       "    </tr>\n",
       "    <tr>\n",
       "      <th>1</th>\n",
       "      <td>2018-08-28</td>\n",
       "      <td>109.940002</td>\n",
       "      <td>110.500000</td>\n",
       "      <td>109.790001</td>\n",
       "      <td>110.260002</td>\n",
       "      <td>104.463814</td>\n",
       "      <td>19151500</td>\n",
       "    </tr>\n",
       "  </tbody>\n",
       "</table>\n",
       "</div>\n",
       "    <div class=\"colab-df-buttons\">\n",
       "\n",
       "  <div class=\"colab-df-container\">\n",
       "    <button class=\"colab-df-convert\" onclick=\"convertToInteractive('df-589b4c1d-1281-41c4-bc36-b32b48284258')\"\n",
       "            title=\"Convert this dataframe to an interactive table.\"\n",
       "            style=\"display:none;\">\n",
       "\n",
       "  <svg xmlns=\"http://www.w3.org/2000/svg\" height=\"24px\" viewBox=\"0 -960 960 960\">\n",
       "    <path d=\"M120-120v-720h720v720H120Zm60-500h600v-160H180v160Zm220 220h160v-160H400v160Zm0 220h160v-160H400v160ZM180-400h160v-160H180v160Zm440 0h160v-160H620v160ZM180-180h160v-160H180v160Zm440 0h160v-160H620v160Z\"/>\n",
       "  </svg>\n",
       "    </button>\n",
       "\n",
       "  <style>\n",
       "    .colab-df-container {\n",
       "      display:flex;\n",
       "      gap: 12px;\n",
       "    }\n",
       "\n",
       "    .colab-df-convert {\n",
       "      background-color: #E8F0FE;\n",
       "      border: none;\n",
       "      border-radius: 50%;\n",
       "      cursor: pointer;\n",
       "      display: none;\n",
       "      fill: #1967D2;\n",
       "      height: 32px;\n",
       "      padding: 0 0 0 0;\n",
       "      width: 32px;\n",
       "    }\n",
       "\n",
       "    .colab-df-convert:hover {\n",
       "      background-color: #E2EBFA;\n",
       "      box-shadow: 0px 1px 2px rgba(60, 64, 67, 0.3), 0px 1px 3px 1px rgba(60, 64, 67, 0.15);\n",
       "      fill: #174EA6;\n",
       "    }\n",
       "\n",
       "    .colab-df-buttons div {\n",
       "      margin-bottom: 4px;\n",
       "    }\n",
       "\n",
       "    [theme=dark] .colab-df-convert {\n",
       "      background-color: #3B4455;\n",
       "      fill: #D2E3FC;\n",
       "    }\n",
       "\n",
       "    [theme=dark] .colab-df-convert:hover {\n",
       "      background-color: #434B5C;\n",
       "      box-shadow: 0px 1px 3px 1px rgba(0, 0, 0, 0.15);\n",
       "      filter: drop-shadow(0px 1px 2px rgba(0, 0, 0, 0.3));\n",
       "      fill: #FFFFFF;\n",
       "    }\n",
       "  </style>\n",
       "\n",
       "    <script>\n",
       "      const buttonEl =\n",
       "        document.querySelector('#df-589b4c1d-1281-41c4-bc36-b32b48284258 button.colab-df-convert');\n",
       "      buttonEl.style.display =\n",
       "        google.colab.kernel.accessAllowed ? 'block' : 'none';\n",
       "\n",
       "      async function convertToInteractive(key) {\n",
       "        const element = document.querySelector('#df-589b4c1d-1281-41c4-bc36-b32b48284258');\n",
       "        const dataTable =\n",
       "          await google.colab.kernel.invokeFunction('convertToInteractive',\n",
       "                                                    [key], {});\n",
       "        if (!dataTable) return;\n",
       "\n",
       "        const docLinkHtml = 'Like what you see? Visit the ' +\n",
       "          '<a target=\"_blank\" href=https://colab.research.google.com/notebooks/data_table.ipynb>data table notebook</a>'\n",
       "          + ' to learn more about interactive tables.';\n",
       "        element.innerHTML = '';\n",
       "        dataTable['output_type'] = 'display_data';\n",
       "        await google.colab.output.renderOutput(dataTable, element);\n",
       "        const docLink = document.createElement('div');\n",
       "        docLink.innerHTML = docLinkHtml;\n",
       "        element.appendChild(docLink);\n",
       "      }\n",
       "    </script>\n",
       "  </div>\n",
       "\n",
       "    </div>\n",
       "  </div>\n"
      ],
      "text/plain": [
       "         Date        Open        High         Low       Close   Adj Close  \\\n",
       "0  2018-08-27  109.269997  109.639999  108.510002  109.599998  103.838486   \n",
       "1  2018-08-28  109.940002  110.500000  109.790001  110.260002  104.463814   \n",
       "\n",
       "     Volume  \n",
       "0  19662300  \n",
       "1  19151500  "
      ]
     },
     "execution_count": 36,
     "metadata": {},
     "output_type": "execute_result"
    }
   ],
   "source": [
    "# take a look at the first rows\n",
    "microsoft_data.head(2)"
   ]
  },
  {
   "cell_type": "code",
   "execution_count": 37,
   "metadata": {
    "colab": {
     "base_uri": "https://localhost:8080/"
    },
    "executionInfo": {
     "elapsed": 120,
     "status": "ok",
     "timestamp": 1693189713401,
     "user": {
      "displayName": "Amir Zemoodeh",
      "userId": "16761213164468805584"
     },
     "user_tz": 300
    },
    "id": "TyvLGvAc-FCe",
    "outputId": "4ff75d6c-6dcd-4743-9af1-4828c90e5783"
   },
   "outputs": [
    {
     "data": {
      "text/plain": [
       "(1258, 7)"
      ]
     },
     "execution_count": 37,
     "metadata": {},
     "output_type": "execute_result"
    }
   ],
   "source": [
    "# number of [observations, features]\n",
    "microsoft_data.shape"
   ]
  },
  {
   "cell_type": "markdown",
   "metadata": {
    "id": "4t3ejwhJ-W4r"
   },
   "source": [
    "Before we proceed, we need to get familiar with two other concepts: for loops , and if statement"
   ]
  },
  {
   "cell_type": "code",
   "execution_count": 39,
   "metadata": {
    "colab": {
     "base_uri": "https://localhost:8080/"
    },
    "executionInfo": {
     "elapsed": 96,
     "status": "ok",
     "timestamp": 1693190081543,
     "user": {
      "displayName": "Amir Zemoodeh",
      "userId": "16761213164468805584"
     },
     "user_tz": 300
    },
    "id": "wdNkeRr3-hTL",
    "outputId": "108ad60e-18c5-4880-910f-b48f4eb930f3"
   },
   "outputs": [
    {
     "name": "stdout",
     "output_type": "stream",
     "text": [
      "0\n",
      "1\n",
      "2\n",
      "3\n",
      "4\n",
      "107.459999\n",
      "104.620003\n"
     ]
    }
   ],
   "source": [
    "# for loop: to go through a list one by one\n",
    "\n",
    "# print numbers from 0 to 4\n",
    "for i in range(5):\n",
    "  print (i)\n",
    "\n",
    "# Use For loop to print Open Price for 100th and 107th observations in Microsoft Data\n",
    "for index in [99, 106]:\n",
    "  print (microsoft_data.loc[index, \"Open\"])"
   ]
  },
  {
   "cell_type": "code",
   "execution_count": 43,
   "metadata": {
    "colab": {
     "base_uri": "https://localhost:8080/"
    },
    "executionInfo": {
     "elapsed": 179,
     "status": "ok",
     "timestamp": 1693190333051,
     "user": {
      "displayName": "Amir Zemoodeh",
      "userId": "16761213164468805584"
     },
     "user_tz": 300
    },
    "id": "5OFUqCck_n6O",
    "outputId": "0a9d1cb3-fd5e-4993-bec7-34c59e633485"
   },
   "outputs": [
    {
     "name": "stdout",
     "output_type": "stream",
     "text": [
      "2019-01-30\n",
      "2022-08-12\n"
     ]
    }
   ],
   "source": [
    "# if statement: to run an operation, conditionally\n",
    "\n",
    "# for the first 1000 observations in Microsoft data, print Dates where Close Price = High Price\n",
    "for index in range (1000):\n",
    "  if microsoft_data.loc[index, \"Close\"] == microsoft_data.loc[index, \"High\"]:\n",
    "    print (microsoft_data.loc[index, \"Date\"])"
   ]
  },
  {
   "cell_type": "markdown",
   "metadata": {
    "id": "tVZFe1nqAlXD"
   },
   "source": [
    "*Assignment 2: Return on a stock is defined as Percentage Change in Price. In Microsoft Data, define a new column called \"Return\". Return at Date t is defined as (Close Price at Date t - Close Price at Date t-1) / Close Price at Date t-1*\n",
    "\n",
    "Note that return can not be defined for the first observation."
   ]
  }
 ],
 "metadata": {
  "colab": {
   "authorship_tag": "ABX9TyNsI3gH5jhqoLdyuy2qq5q3",
   "provenance": [
    {
     "file_id": "1CRgEnGnk7VvEaHQ94DXs2qgIW1CBKd0Y",
     "timestamp": 1693185997965
    }
   ]
  },
  "kernelspec": {
   "display_name": "Python 3 (ipykernel)",
   "language": "python",
   "name": "python3"
  },
  "language_info": {
   "codemirror_mode": {
    "name": "ipython",
    "version": 3
   },
   "file_extension": ".py",
   "mimetype": "text/x-python",
   "name": "python",
   "nbconvert_exporter": "python",
   "pygments_lexer": "ipython3",
   "version": "3.11.5"
  }
 },
 "nbformat": 4,
 "nbformat_minor": 1
}
